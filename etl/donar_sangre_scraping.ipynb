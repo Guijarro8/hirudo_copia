{
 "cells": [
  {
   "cell_type": "markdown",
   "id": "published-ivory",
   "metadata": {},
   "source": [
    "# Puntos de donación de sangre de la Comunidad de Madrid"
   ]
  },
  {
   "cell_type": "code",
   "execution_count": 1,
   "id": "loose-tulsa",
   "metadata": {},
   "outputs": [],
   "source": [
    "import pandas as pd\n",
    "\n",
    "from tqdm.auto import tqdm\n",
    "\n",
    "from utils.db import format_column, from_db, gdf_from_df, run_query, to_db\n",
    "from utils.geocode import google_geocode_address\n",
    "from utils.crawl import extraer_puntos_fijos, extraer_puntos_moviles"
   ]
  },
  {
   "cell_type": "code",
   "execution_count": 2,
   "id": "impressive-tracker",
   "metadata": {},
   "outputs": [],
   "source": [
    "def get_full_address(row, address_field):\n",
    "    return ', '.join([row[address_field], row.municipio, 'Community of Madrid', 'Spain'])\n",
    "\n",
    "\n",
    "def get_gmaps_url(row):\n",
    "    return f'https://www.google.com/maps?q={row.latitude}+{row.longitude}'\n",
    "\n",
    "\n",
    "with open('../sql/table_to_geojson.sql') as fp:\n",
    "    TABLE_TO_GEOJSON_QUERY = fp.read()"
   ]
  },
  {
   "cell_type": "markdown",
   "id": "wireless-american",
   "metadata": {},
   "source": [
    "## Puntos fijos\n",
    "\n",
    "Los hospitales son fáciles de scrapear pero hay otros tres puntos que aparecen desordenados en [la web](https://www.comunidad.madrid/servicios/salud/donacion-sangre#puntos-donacion).\n",
    "\n",
    "Los metemos a mano"
   ]
  },
  {
   "cell_type": "code",
   "execution_count": 3,
   "id": "affiliated-alias",
   "metadata": {},
   "outputs": [],
   "source": [
    "puntos_fijos_no_hospitales = [\n",
    "    {\n",
    "        'nombre': 'Centro de Transfusión de la Comunidad de Madrid',\n",
    "        'id_del_centro': None,\n",
    "        'url': None,\n",
    "        'horario_de_donaciones': 'De 8:30 a 21 horas, de lunes a sábado (excepto festivos).',\n",
    "        'ubicacion_de_las_salas_de_donacion': None,\n",
    "        'observaciones': 'Cuenta con párking para donantes. Medios de transporte: Autobuses: 71, 130, 8. Metro: Valdebernardo (Línea 9)',\n",
    "        'informacion_al_donante': 'Tlfno: 900 303 530',\n",
    "        'direccion_postal': 'esquina con Avenida de las Comunidades, Av. de la Democracia, s/n',\n",
    "        'municipio': 'Madrid',\n",
    "        'codigo_postal': '28032',\n",
    "        'informacion_general': '900 303 530',\n",
    "        'latitude': 40.396334,\n",
    "        'longitude': -3.615422,\n",
    "    },\n",
    "    {\n",
    "        'nombre': 'Unidad móvil de la Puerta del Sol',\n",
    "        'id_del_centro': None,\n",
    "        'url': None,\n",
    "        'horario_de_donaciones': 'De lunes a viernes de 11 a 21 h. Sábados, domingos y festivos de 10 a 21h.',\n",
    "        'ubicacion_de_las_salas_de_donacion': None,\n",
    "        'observaciones': None,\n",
    "        'informacion_al_donante': None,\n",
    "        'direccion_postal': 'Prta. del Sol, s/n',\n",
    "        'municipio': 'Madrid',\n",
    "        'codigo_postal': '28013',\n",
    "        'informacion_general': None,\n",
    "        'latitude': 40.416806,\n",
    "        'longitude': -3.703911,\n",
    "    },\n",
    "    {\n",
    "        'nombre': 'Unidad de Extracción de Sangre de Cruz Roja',\n",
    "        'id_del_centro': None,\n",
    "        'url': None,\n",
    "        'horario_de_donaciones': 'De lunes a viernes. De 9 a 20:30 h. (excepto festivos).',\n",
    "        'ubicacion_de_las_salas_de_donacion': None,\n",
    "        'observaciones': None,\n",
    "        'informacion_al_donante': 'Tlfno: 900 303 530',\n",
    "        'direccion_postal': 'c/ Juan Montalvo, nº 3.',\n",
    "        'municipio': 'Madrid',\n",
    "        'codigo_postal': '28040',\n",
    "        'informacion_general': None,\n",
    "        'latitude': 40.447684,\n",
    "        'longitude': -3.709592,\n",
    "    }\n",
    "]"
   ]
  },
  {
   "cell_type": "markdown",
   "id": "5bc16ec6-c96f-4f33-8b80-c0de8ae5704f",
   "metadata": {},
   "source": [
    "# Puntos Fijos\n",
    "\n",
    "Juntamos los pocos que no salen en la web"
   ]
  },
  {
   "cell_type": "code",
   "execution_count": 4,
   "id": "dd434e92-4817-4c85-91f1-5eafc1935163",
   "metadata": {},
   "outputs": [],
   "source": [
    "df_fijos = extraer_puntos_fijos()\n",
    "df_fijos_keys = pd.DataFrame({'original': df_fijos.columns, 'db': df_fijos.columns.map(format_column)})\n",
    "df_fijos.columns = df_fijos.columns.map(format_column)\n",
    "df_fijos = pd.concat([pd.DataFrame(puntos_fijos_no_hospitales), df_fijos], ignore_index=True)\n",
    "df_fijos['gmaps_url'] = df_fijos.apply(get_gmaps_url, axis=1)\n",
    "\n",
    "gdf_fijos = gdf_from_df(df_fijos)"
   ]
  },
  {
   "cell_type": "markdown",
   "id": "compound-disclaimer",
   "metadata": {},
   "source": [
    "Tenemos que eliminar y recrear la vista de `geojson` dependiente de la tabla de puntos fijos"
   ]
  },
  {
   "cell_type": "code",
   "execution_count": 11,
   "id": "enhanced-poverty",
   "metadata": {},
   "outputs": [],
   "source": [
    "run_query('DROP VIEW IF EXISTS puntos_fijos_geojson')\n",
    "\n",
    "to_db(gdf_fijos, 'puntos_fijos')\n",
    "to_db(df_fijos_keys, 'puntos_fijos_keys')\n",
    "\n",
    "\n",
    "run_query(TABLE_TO_GEOJSON_QUERY.format(t='puntos_fijos'))"
   ]
  },
  {
   "cell_type": "markdown",
   "id": "surprised-parcel",
   "metadata": {},
   "source": [
    "## Puntos móviles\n",
    "\n",
    "Muy similar a los puntos fijos, sólo que no tienen web individual y pillamos todos los atributos de una lista"
   ]
  },
  {
   "cell_type": "code",
   "execution_count": 5,
   "id": "1b5df3b8-304f-4c94-b012-bfaf243fc332",
   "metadata": {},
   "outputs": [],
   "source": [
    "db_fields = ['nombre', 'municipio', 'direccion', 'fecha', 'horario']\n",
    "nice_fields = ['Nombre', 'Municipio', 'Dirección', 'Fecha', 'Horario']\n",
    "df_moviles_keys = pd.DataFrame({'original': nice_fields, 'db': db_fields})\n",
    "\n",
    "df_moviles = extraer_puntos_moviles()\n",
    "# df_moviles.columns = df_moviles.columns.map(format_column)\n",
    "df_moviles.columns = [\"municipio\", \"ubicacion\", \"direccion\", \"fecha\", \"horario\"]\n",
    "# df_moviles.columns = db_fields\n",
    "for text in ['Equipo móvil en ', 'E Móvil en ', 'Equipo Móvil detrás ']:\n",
    "    df_moviles['direccion'] = df_moviles['direccion'].map(lambda d: d.replace(text, ''))"
   ]
  },
  {
   "cell_type": "markdown",
   "id": "potential-pursuit",
   "metadata": {},
   "source": [
    "Geocode and upload. We geocode both the `ubicacion` and `direccion` and keep their scores\n",
    "based on the `location_type` (ROOFTOP, etc).\n",
    "\n",
    "Before geocoding, try to use the cache"
   ]
  },
  {
   "cell_type": "code",
   "execution_count": 6,
   "id": "differential-receiver",
   "metadata": {},
   "outputs": [],
   "source": [
    "try:\n",
    "    geocoding_cache = from_db('geocoding_cache')\n",
    "except Exception:\n",
    "    geocoding_cache = pd.DataFrame(columns=['address', 'longitude', 'latitude', 'location_type', 'score'])"
   ]
  },
  {
   "cell_type": "code",
   "execution_count": 7,
   "id": "saved-chancellor",
   "metadata": {
    "collapsed": true,
    "jupyter": {
     "outputs_hidden": true
    },
    "scrolled": true
   },
   "outputs": [
    {
     "data": {
      "application/vnd.jupyter.widget-view+json": {
       "model_id": "641cb0ddb3be491f9e5c158f7a95574b",
       "version_major": 2,
       "version_minor": 0
      },
      "text/plain": [
       "ubicacion:   0%|          | 0/54 [00:00<?, ?it/s]"
      ]
     },
     "metadata": {},
     "output_type": "display_data"
    },
    {
     "name": "stdout",
     "output_type": "stream",
     "text": [
      "\"UAH EDIFICIO CIENCIAS, Alcalá de Henares, Community of Madrid, Spain\" not found in cache. Geocoding...\n",
      "\"C/ Marquesa Viuda de Aldama,13, Alcobendas, Community of Madrid, Spain\" not found in cache. Geocoding...\n",
      "\"Avenida Siglo XXI - Plaza Virgen María, Boadilla del Monte, Community of Madrid, Spain\" not found in cache. Geocoding...\n",
      "\"BRUNETE, Brunete, Community of Madrid, Spain\" not found in cache. Geocoding...\n",
      "\"Ciempozuelos, Ciempozuelos, Community of Madrid, Spain\" not found in cache. Geocoding...\n",
      "\"Plaza Constitución, Colmenarejo, Community of Madrid, Spain\" not found in cache. Geocoding...\n",
      "\"FLOWSERVE-CNH, Coslada, Community of Madrid, Spain\" not found in cache. Geocoding...\n",
      "\"Daganzo de Arriba, Daganzo de Arriba, Community of Madrid, Spain\" not found in cache. Geocoding...\n",
      "\"Campo Plaza de Toros, El Álamo, Community of Madrid, Spain\" not found in cache. Geocoding...\n",
      "\"Feria de la Salud, El Escorial, Community of Madrid, Spain\" not found in cache. Geocoding...\n",
      "\"C.Co Plaza Estación - C/ Hungría, Fuenlabrada, Community of Madrid, Spain\" not found in cache. Geocoding...\n",
      "\"Ayuntamiento de Las Rozas, Las Rozas de Madrid, Community of Madrid, Spain\" not found in cache. Geocoding...\n",
      "\"LEGANES CF, Leganés, Community of Madrid, Spain\" not found in cache. Geocoding...\n",
      "\"CLUB INTERNACIONAL LIBRO, Madrid, Community of Madrid, Spain\" not found in cache. Geocoding...\n",
      "\"Parroquia Ntra Sra de Europa, Madrid, Community of Madrid, Spain\" not found in cache. Geocoding...\n",
      "\"Metro Ciudad Universitaria, Madrid, Community of Madrid, Spain\" not found in cache. Geocoding...\n",
      "\"EDIFICIO DELTA NOVA, Madrid, Community of Madrid, Spain\" not found in cache. Geocoding...\n",
      "\"Avenida Complutense (Metro C. Universitaria), Madrid, Community of Madrid, Spain\" not found in cache. Geocoding...\n",
      "\"Avenida de Bruselas esq. Plaza Venecia, Madrid, Community of Madrid, Spain\" not found in cache. Geocoding...\n",
      "\"Ciudad Lineal, Madrid, Community of Madrid, Spain\" not found in cache. Geocoding...\n",
      "\"INSTITUCIÓN LA SALLE, Madrid, Community of Madrid, Spain\" not found in cache. Geocoding...\n",
      "\"Fuencarral, 120 (Glorieta de Bilbao), Madrid, Community of Madrid, Spain\" not found in cache. Geocoding...\n",
      "\"C/ Fuencarral, 120 (Glorieta Bilbao), Madrid, Community of Madrid, Spain\" not found in cache. Geocoding...\n",
      "\"C/ Golondrina junto Estación de tren Aravaca, Madrid, Community of Madrid, Spain\" not found in cache. Geocoding...\n",
      "\"C/ Gran Vía, Madrid, Community of Madrid, Spain\" not found in cache. Geocoding...\n",
      "\"C/ Guareña - C.Co Plaza Aluche, Madrid, Community of Madrid, Spain\" not found in cache. Geocoding...\n",
      "\"C/ José del Hierro, 52, Madrid, Community of Madrid, Spain\" not found in cache. Geocoding...\n",
      "\"UPM - ETSI Industriales, Madrid, Community of Madrid, Spain\" not found in cache. Geocoding...\n",
      "\"UPM ETSI INDUSTRIALES, Madrid, Community of Madrid, Spain\" not found in cache. Geocoding...\n",
      "\"UNICEF, Madrid, Community of Madrid, Spain\" not found in cache. Geocoding...\n",
      "\"URIA ABOGADOS, Madrid, Community of Madrid, Spain\" not found in cache. Geocoding...\n",
      "\"AMAZON, Madrid, Community of Madrid, Spain\" not found in cache. Geocoding...\n",
      "\"Alameda de Osuna, Madrid, Community of Madrid, Spain\" not found in cache. Geocoding...\n",
      "\"CIVSEM- Centro Investigación en Valores, Madrid, Community of Madrid, Spain\" not found in cache. Geocoding...\n",
      "\"C/ Clara del Rey, Madrid, Community of Madrid, Spain\" not found in cache. Geocoding...\n",
      "\"UAM, Madrid, Community of Madrid, Spain\" not found in cache. Geocoding...\n",
      "\"Gran Vía, Madrid, Community of Madrid, Spain\" not found in cache. Geocoding...\n",
      "\"Paseo de las Delicias, 51, Madrid, Community of Madrid, Spain\" not found in cache. Geocoding...\n",
      "\"C/ Téllez, s/n, Madrid, Community of Madrid, Spain\" not found in cache. Geocoding...\n",
      "\"Plaza de Santa Cruz, Madrid, Community of Madrid, Spain\" not found in cache. Geocoding...\n",
      "\"Plaza República Dominicana, Madrid, Community of Madrid, Spain\" not found in cache. Geocoding...\n",
      "\"CBRE REAL ESTATE. S.A., Madrid, Community of Madrid, Spain\" not found in cache. Geocoding...\n",
      "\"Pº de la Castellana, 202, Madrid, Community of Madrid, Spain\" not found in cache. Geocoding...\n",
      "\"A&G, Madrid, Community of Madrid, Spain\" not found in cache. Geocoding...\n",
      "\"COLEGIO SANTA LUISA, Madrid, Community of Madrid, Spain\" not found in cache. Geocoding...\n",
      "\"CPIFP Escuela Hostelería Simone Ortega, Móstoles, Community of Madrid, Spain\" not found in cache. Geocoding...\n",
      "\"Plaza David Martín (Centro Salud), Pinto, Community of Madrid, Spain\" not found in cache. Geocoding...\n",
      "\"BRITISH COUNCIL, Pozuelo de Alarcón, Community of Madrid, Spain\" not found in cache. Geocoding...\n",
      "\"C. Salud Parque V Centenario, San Martín de la Vega, Community of Madrid, Spain\" not found in cache. Geocoding...\n",
      "\"Plaza de España (renfe), Torrejón de Ardoz, Community of Madrid, Spain\" not found in cache. Geocoding...\n",
      "\"Plaza del Caño, Torrelodones, Community of Madrid, Spain\" not found in cache. Geocoding...\n",
      "\"Avenida Colmenar Viejo, Tres Cantos, Community of Madrid, Spain\" not found in cache. Geocoding...\n",
      "\"C/ Ramón Gamonal, Valdemorillo, Community of Madrid, Spain\" not found in cache. Geocoding...\n",
      "\"Iglesia Ortodoxa Rumana, Valdemoro, Community of Madrid, Spain\" not found in cache. Geocoding...\n"
     ]
    },
    {
     "data": {
      "application/vnd.jupyter.widget-view+json": {
       "model_id": "acd7f87bae53428aa954a9362371eba8",
       "version_major": 2,
       "version_minor": 0
      },
      "text/plain": [
       "direccion:   0%|          | 0/59 [00:00<?, ?it/s]"
      ]
     },
     "metadata": {},
     "output_type": "display_data"
    },
    {
     "name": "stdout",
     "output_type": "stream",
     "text": [
      "\"Carr. Barcelona Km 33.600 pza Central de la Facultad, Alcalá de Henares, Community of Madrid, Spain\" not found in cache. Geocoding...\n",
      "\"Plaza Felipe Álvarez Gadea, Alcobendas, Community of Madrid, Spain\" not found in cache. Geocoding...\n",
      "\"Glorieta Virgen María, Boadilla del Monte, Community of Madrid, Spain\" not found in cache. Geocoding...\n",
      "\"C/ Caridad junto a Plaza Mayor, Brunete, Community of Madrid, Spain\" not found in cache. Geocoding...\n",
      "\"Avenida del Consuelo, 50, Ciempozuelos, Community of Madrid, Spain\" not found in cache. Geocoding...\n",
      "\"Plaza Constitución acceso por C/ Peligro, Colmenarejo, Community of Madrid, Spain\" not found in cache. Geocoding...\n",
      "\"Av. Fuentemar esq. C/ Tierra de Barros, Coslada, Community of Madrid, Spain\" not found in cache. Geocoding...\n",
      "\"C/ Gustavo Adolfo Becquer, acera del parque, Daganzo de Arriba, Community of Madrid, Spain\" not found in cache. Geocoding...\n",
      "\"E. Móvil en parking Plaza de Toros, El Álamo, Community of Madrid, Spain\" not found in cache. Geocoding...\n",
      "\"Avd. de Castilla, 2-4-Feria de la Salud, El Escorial, Community of Madrid, Spain\" not found in cache. Geocoding...\n",
      "\"C/ Hungría, 8 junto Plaza Ayuntamiento, Fuenlabrada, Community of Madrid, Spain\" not found in cache. Geocoding...\n",
      "\"Av. Dr. Toledo esq. C/ Real, Las Rozas de Madrid, Community of Madrid, Spain\" not found in cache. Geocoding...\n",
      "\"Parking del CC Plaza Nueva, Avda Puerta del Sol, 2, Leganés, Community of Madrid, Spain\" not found in cache. Geocoding...\n",
      "\"Equipo Móvil Av. Manoteras, 50, Madrid, Community of Madrid, Spain\" not found in cache. Geocoding...\n",
      "\"Equipo Móvil en Pº Juan Antonio Vallejo -Nájera Botas nº 25, Madrid, Community of Madrid, Spain\" not found in cache. Geocoding...\n",
      "\"Av Complutense Explanada frente a metro, Madrid, Community of Madrid, Spain\" not found in cache. Geocoding...\n",
      "\"Avda. Manoteras, 41 frente gasolinera, Madrid, Community of Madrid, Spain\" not found in cache. Geocoding...\n",
      "\"Avenida Complutense, explanada frente a Metro, Madrid, Community of Madrid, Spain\" not found in cache. Geocoding...\n",
      "\"Avenida de Bruselas esq. Plaza Venecia, Madrid, Community of Madrid, Spain\" not found in cache. Geocoding...\n",
      "\"Avenida Hermanos García Noblejas, 1, Madrid, Community of Madrid, Spain\" not found in cache. Geocoding...\n",
      "\"C/ Blas Cabrera, 50, Madrid, Community of Madrid, Spain\" not found in cache. Geocoding...\n",
      "\"Equipo Móvil en C/ Fuencarral, 120, Madrid, Community of Madrid, Spain\" not found in cache. Geocoding...\n",
      "\"C/ Fuencarral, 120, Madrid, Community of Madrid, Spain\" not found in cache. Geocoding...\n",
      "\"C/ Golondrina esq. Avenida del Talgo, Madrid, Community of Madrid, Spain\" not found in cache. Geocoding...\n",
      "\"C/ Gran Vía esquina C/ Montera, Red de san Luis, Madrid, Community of Madrid, Spain\" not found in cache. Geocoding...\n",
      "\"C/ Guareña, 21 junto lateral farmacia, Madrid, Community of Madrid, Spain\" not found in cache. Geocoding...\n",
      "\"C/ José del Hierro, 41, Madrid, Community of Madrid, Spain\" not found in cache. Geocoding...\n",
      "\"C/ José Gutiérrez Abascal frente nº 2 Entrada Principal, Madrid, Community of Madrid, Spain\" not found in cache. Geocoding...\n",
      "\"C/ José Gutiérrez Abascal frente nº 2, entrada principal, Madrid, Community of Madrid, Spain\" not found in cache. Geocoding...\n",
      "\"C/ Mauricio Legendre, 45, Madrid, Community of Madrid, Spain\" not found in cache. Geocoding...\n",
      "\"C/ Príncipe de Vergara, 187, Madrid, Community of Madrid, Spain\" not found in cache. Geocoding...\n",
      "\"C/ Ramírez de Prado,5, Madrid, Community of Madrid, Spain\" not found in cache. Geocoding...\n",
      "\"C/ Rioja esq. C/ Corbeta, junto a metro donde el Bibliobus, Madrid, Community of Madrid, Spain\" not found in cache. Geocoding...\n",
      "\"C/ San Germán, 46 junto IES, Madrid, Community of Madrid, Spain\" not found in cache. Geocoding...\n",
      "\"C/Clara del Rey, 55, Madrid, Community of Madrid, Spain\" not found in cache. Geocoding...\n",
      "\"C/Einstein, 3, parada bus 8, frente a Rectorado, Madrid, Community of Madrid, Spain\" not found in cache. Geocoding...\n",
      "\"C/Fuencarral,120, Madrid, Community of Madrid, Spain\" not found in cache. Geocoding...\n",
      "\"Gran Vía esquina C/ Montera, Madrid, Community of Madrid, Spain\" not found in cache. Geocoding...\n",
      "\"Gran Vía esquina C/ Montera, Red de San Luis, Madrid, Community of Madrid, Spain\" not found in cache. Geocoding...\n",
      "\"Gran Vía esquina C/ Montera, red de San Luis, Madrid, Community of Madrid, Spain\" not found in cache. Geocoding...\n",
      "\"Paseo de las Delicias, 51, Madrid, Community of Madrid, Spain\" not found in cache. Geocoding...\n",
      "\"Plaza Daoiz y Velarde, por C/ Téllez, Madrid, Community of Madrid, Spain\" not found in cache. Geocoding...\n",
      "\"Plaza de Santa Cruz, Madrid, Community of Madrid, Spain\" not found in cache. Geocoding...\n",
      "\"Plaza República Dominicana esq. C/ Príncipe de Vergara, 266, Madrid, Community of Madrid, Spain\" not found in cache. Geocoding...\n",
      "\"Plaza República Dominicana esq. C/ Príncipe de Vergara,266, Madrid, Community of Madrid, Spain\" not found in cache. Geocoding...\n",
      "\"Plaza República Dominicana esquina C/ Príncipe de Vergara, Madrid, Community of Madrid, Spain\" not found in cache. Geocoding...\n",
      "\"Pº Castellana, 202, Madrid, Community of Madrid, Spain\" not found in cache. Geocoding...\n",
      "\"Pº de la Castellana, 202, Madrid, Community of Madrid, Spain\" not found in cache. Geocoding...\n",
      "\"Pº de la Castellana, 88, Madrid, Community of Madrid, Spain\" not found in cache. Geocoding...\n",
      "\"Local en C/ Tántalo, 21 en aula de la escuela, Madrid, Community of Madrid, Spain\" not found in cache. Geocoding...\n",
      "\"C/ Pintor Velázquez, 64, Móstoles, Community of Madrid, Spain\" not found in cache. Geocoding...\n",
      "\"Plaza David Martín, Pinto, Community of Madrid, Spain\" not found in cache. Geocoding...\n",
      "\"C/Solano, 5-7 Prado Somosag., Pozuelo de Alarcón, Community of Madrid, Spain\" not found in cache. Geocoding...\n",
      "\"Av Dr Manuel Jarabo Parque V Centenario frente Supermercado (Tucash), San Martín de la Vega, Community of Madrid, Spain\" not found in cache. Geocoding...\n",
      "\"Plaza de España junto Renfe, Torrejón de Ardoz, Community of Madrid, Spain\" not found in cache. Geocoding...\n",
      "\"Equipo Móvil en Pza del Caño esq C/ Carlos Picabea, Torrelodones, Community of Madrid, Spain\" not found in cache. Geocoding...\n",
      "\"Avenida Colmenar Viejo esq. C/ Maliciosa, Tres Cantos, Community of Madrid, Spain\" not found in cache. Geocoding...\n",
      "\"C/ Ramón Gamonal, debajo de la churrería, Valdemorillo, Community of Madrid, Spain\" not found in cache. Geocoding...\n",
      "\"C/ Apolo esquina C/Marte, Valdemoro, Community of Madrid, Spain\" not found in cache. Geocoding...\n"
     ]
    }
   ],
   "source": [
    "new_geocoding_list = []\n",
    "for address_field in ['ubicacion', 'direccion']:\n",
    "    full_addresses = df_moviles.apply(get_full_address, axis=1, address_field=address_field)\n",
    "    for full_address in tqdm(full_addresses.drop_duplicates(), desc=address_field):\n",
    "        # Try to find address in cache\n",
    "        gc_row = geocoding_cache.loc[geocoding_cache.address == full_address]\n",
    "        if not gc_row.empty:\n",
    "            continue\n",
    "\n",
    "        # Address not found. Must geocode\n",
    "        print(f'\"{full_address}\" not found in cache. Geocoding...')\n",
    "        lng, lat, location_type, score = google_geocode_address(full_address)\n",
    "        new_geocoding_list.append({\n",
    "            'address': full_address,\n",
    "            'longitude': lng,\n",
    "            'latitude': lat,\n",
    "            'location_type': location_type,\n",
    "            'score': score,\n",
    "        })\n",
    "\n",
    "new_geocoding_df = pd.DataFrame(new_geocoding_list)\n",
    "geocoding_cache = pd.concat([geocoding_cache, new_geocoding_df])\n",
    "\n",
    "geocoding_cache = geocoding_cache.drop_duplicates()\n",
    "\n",
    "to_db(geocoding_cache, 'geocoding_cache')"
   ]
  },
  {
   "cell_type": "code",
   "execution_count": 8,
   "id": "matched-cream",
   "metadata": {},
   "outputs": [],
   "source": [
    "# Geocoding candidates based on \"ubicacion\"\n",
    "df_ubicacion = df_moviles[['ubicacion', 'municipio']].copy()\n",
    "df_ubicacion['address'] = df_ubicacion.apply(get_full_address, axis=1, address_field='ubicacion')\n",
    "df_ubicacion = pd.merge(df_ubicacion, geocoding_cache, on='address')\n",
    "\n",
    "# Geocoding candidates based on \"direccion\"\n",
    "df_direccion = df_moviles[['direccion', 'municipio']].copy()\n",
    "df_direccion['address'] = df_direccion.apply(get_full_address, axis=1, address_field='direccion')\n",
    "df_direccion = pd.merge(df_direccion, geocoding_cache, on='address')\n",
    "\n",
    "assert len(df_moviles) == len(df_ubicacion) == len(df_direccion)"
   ]
  },
  {
   "cell_type": "markdown",
   "id": "alternative-houston",
   "metadata": {},
   "source": [
    "Get the coordinates from the best candidate address (`direccion` or `ubicacion`)"
   ]
  },
  {
   "cell_type": "code",
   "execution_count": 9,
   "id": "obvious-specification",
   "metadata": {},
   "outputs": [],
   "source": [
    "df_moviles['latitude'] = None\n",
    "df_moviles['longitude'] = None\n",
    "for idx, row in df_moviles.iterrows():\n",
    "    score_ubicacion = df_ubicacion.loc[idx, 'score']\n",
    "    score_direccion = df_direccion.loc[idx, 'score']\n",
    "    if score_direccion > score_ubicacion:\n",
    "        lng = df_direccion.loc[idx, 'longitude']\n",
    "        lat = df_direccion.loc[idx, 'latitude']\n",
    "    else:\n",
    "        lng = df_ubicacion.loc[idx, 'longitude']\n",
    "        lat = df_ubicacion.loc[idx, 'latitude']\n",
    "        \n",
    "    df_moviles.loc[idx, 'longitude'] = lng\n",
    "    df_moviles.loc[idx, 'latitude'] = lat"
   ]
  },
  {
   "cell_type": "code",
   "execution_count": 10,
   "id": "wired-turkish",
   "metadata": {},
   "outputs": [],
   "source": [
    "df_moviles['url'] = df_moviles.apply(get_gmaps_url, axis=1)\n",
    "df_moviles = df_moviles.drop(columns=['ubicacion'])\n",
    "gdf_moviles = gdf_from_df(df_moviles)"
   ]
  },
  {
   "cell_type": "code",
   "execution_count": 11,
   "id": "different-liberty",
   "metadata": {},
   "outputs": [],
   "source": [
    "run_query('DROP VIEW IF EXISTS puntos_moviles_geojson')\n",
    "\n",
    "to_db(gdf_moviles, 'puntos_moviles')\n",
    "to_db(df_moviles_keys, 'puntos_moviles_keys')\n",
    "\n",
    "\n",
    "run_query(TABLE_TO_GEOJSON_QUERY.format(t='puntos_moviles'))"
   ]
  }
 ],
 "metadata": {
  "kernelspec": {
   "display_name": "Python 3 (ipykernel)",
   "language": "python",
   "name": "python3"
  },
  "language_info": {
   "codemirror_mode": {
    "name": "ipython",
    "version": 3
   },
   "file_extension": ".py",
   "mimetype": "text/x-python",
   "name": "python",
   "nbconvert_exporter": "python",
   "pygments_lexer": "ipython3",
   "version": "3.11.6"
  }
 },
 "nbformat": 4,
 "nbformat_minor": 5
}
